{
  "nbformat": 4,
  "nbformat_minor": 0,
  "metadata": {
    "colab": {
      "private_outputs": true,
      "provenance": [],
      "collapsed_sections": [
        "t27r6nlMphqO",
        "r2jJGEOYphqO",
        "b0JNsNcRphqO",
        "gIfDvo9L0UH2"
      ],
      "include_colab_link": true
    },
    "kernelspec": {
      "name": "python3",
      "display_name": "Python 3"
    },
    "language_info": {
      "name": "python"
    }
  },
  "cells": [
    {
      "cell_type": "markdown",
      "metadata": {
        "id": "view-in-github",
        "colab_type": "text"
      },
      "source": [
        "<a href=\"https://colab.research.google.com/github/aradhanarai/Hotel-Bookings-Data-Analysis/blob/main/EDA_on_Hotel_booking.ipynb\" target=\"_parent\"><img src=\"https://colab.research.google.com/assets/colab-badge.svg\" alt=\"Open In Colab\"/></a>"
      ]
    },
    {
      "cell_type": "markdown",
      "source": [
        "# **Project Name**    - **Hotel Bookings.**\n",
        "\n"
      ],
      "metadata": {
        "id": "vncDsAP0Gaoa"
      }
    },
    {
      "cell_type": "markdown",
      "source": [
        "#### **Project Type**    - **EDA on Hotel Bookings.**\n",
        "##### **Contribution**    - Individual\n",
        "##### **Name**  - **Aradhana Rai**\n"
      ],
      "metadata": {
        "id": "beRrZCGUAJYm"
      }
    },
    {
      "cell_type": "markdown",
      "source": [
        "# **Project Summary -**"
      ],
      "metadata": {
        "id": "FJNUwmbgGyua"
      }
    },
    {
      "cell_type": "markdown",
      "source": [
        "Project Summary: **Exploratory Data Analysis of Hotel Bookings Dataset.**\n",
        "\n",
        "**Introduction:** In this project, our goal is to perform data wrangling, cleaning, and exploratory data analysis (EDA) on the \"hotel_bookings\" dataset. The dataset contains information about hotel bookings, including various attributes such as booking details, guest information, and stay characteristics, services . By using  the pandas, numpy, matplotlib, and seaborn libraries in Python, This analysis aims to extract meaningful insights, identify trends, and understand the underlying patterns in booking behavior. The insights gained will help in enhancing decision-making processes related to hotel management and marketing strategies.\n",
        "\n",
        "**Project Goal:** Our primary goal is to analyze the \"hotel_bookings\" dataset to understand the underlying trends and patterns in hotel bookings. By conducting comprehensive data cleaning, preprocessing, and exploratory data analysis, we aim to achieve the following objectives:\n",
        "\n",
        "**1. Identify key factors influencing booking cancellations:** We will examine factors contributing to booking cancellations, such as lead time, previous cancellations, and deposit types, to understand their impact on booking behavior.\n",
        "\n",
        "**2. Explore seasonal variations in booking trends:** By analyzing booking patterns across different months and years, we aim to identify seasonal variations and trends in hotel occupancy and demand.\n",
        "\n",
        "3. Analyze guest demographics and preferences:We will delve into guest demographics, including the number of adults, children, and babies, as well as guest preferences regarding meal plans and room types.\n",
        "\n",
        "4. Investigate the Impact of Booking channels and Market:We will explore the influence of booking channels (e.g., online travel agents, offline travel agents) and market segments (e.g., corporate, leisure) on hotel occupancy and revenue generation.\n",
        "\n",
        "5. Visualize key insights for Interpretation:Utilizing various visualization techniques such as histograms, bar plots, and scatter plots, we aim to visually represent key findings and insights for easy interpretation and communication.\n",
        "\n",
        "Method -\n",
        "\n",
        "1. Data Loading and Inspection: We will start by loading the dataset into a pandas DataFrame and conducting an initial inspection to understand its structure, features, and data types.\n",
        "\n",
        "2. Data Cleaning and Preprocessing: We will address data quality issues, including handling missing values, outliers, duplicates, and inconsistencies, to ensure the integrity and reliability of our analysis.\n",
        "\n",
        "3. Exploratory Data Analysis (EDA): Explore the dataset to uncover patterns, trends, and relationships among variables.\n",
        "\n",
        "4.**Visualization:** We will create visualizations to depict insights gained from the EDA process, facilitating a deeper understanding of the data and its implications.\n",
        "\n",
        "\n",
        "5. Summary and Conclusions: We will summarize our findings, draw conclusions, and provide actionable insights to stakeholders based on our analysis of hotel booking trends and guest behaviors.\n",
        "\n",
        "Tools and Techniques:\n",
        "\n",
        "Data Analysis and Manipulation: Python (pandas, NumPy)\n",
        "Data Visualization: Matplotlib, Seaborn, Plotly\n",
        "Statistical Analysis: Descriptive statistics, hypothesis testing\n",
        "Clustering Analysis: K-means clustering, other relevant clustering algorithms\n",
        "\n",
        "Conclusion : Through this project, we aim to gain a deeper understanding of hotel booking trends and guest behaviors. By conducting thorough data analysis and visualization, we can uncover valuable insights that can inform decision-making and help optimize hotel operations. Ultimately, our goal is to enhance guest satisfaction and improve overall hotel performance\n",
        "        "
      ],
      "metadata": {
        "id": "rbC71WNLnobt"
      }
    },
    {
      "cell_type": "markdown",
      "source": [
        "Write the summary here within 500-600 words."
      ],
      "metadata": {
        "id": "F6v_1wHtG2nS"
      }
    },
    {
      "cell_type": "markdown",
      "source": [
        "# **GitHub Link -**"
      ],
      "metadata": {
        "id": "w6K7xa23Elo4"
      }
    },
    {
      "cell_type": "markdown",
      "source": [
        "https://github.com/aradhanarai/Hotel-Bookings-Data-Analysis"
      ],
      "metadata": {
        "id": "h1o69JH3Eqqn"
      }
    },
    {
      "cell_type": "markdown",
      "source": [
        "# **Problem Statement**\n"
      ],
      "metadata": {
        "id": "yQaldy8SH6Dl"
      }
    },
    {
      "cell_type": "markdown",
      "source": [
        "The aim of this project is to perform data wrangling, cleaning, and exploratory data analysis (EDA) on a dataset containing hotel bookings information. The dataset consists of various attributes such as booking details, guest information, and stay characteristics. The goal is to gain valuable insights into booking patterns, customer behavior, and factors influencing booking cancellations. This project will involve the following tasks:\n",
        "\n",
        "**Data Wrangling and Cleaning:**\n",
        "\n",
        "Handle missing values, outliers, and inconsistencies in the dataset.\n",
        "Standardize data formats and correct any data entry errors.\n",
        "Perform feature engineering to derive new features if necessary.\n",
        "\n",
        "Exploratory Data Analysis (EDA):\n",
        "\n",
        "\n",
        "Explore the distribution of key variables such as booking lead time, stay duration, and average daily rate.\n",
        "Analyze the relationship between booking cancellations and various factors such as lead time, market segment, and previous cancellations.\n",
        "Investigate seasonal patterns in hotel bookings and cancellations.\n",
        "Identify trends and patterns in customer preferences, such as meal type, room type, and special requests.\n",
        "Visualization:\n",
        "Create visualizations (e.g., histograms, box plots, heatmaps) to illustrate the distribution and relationships of different variables.\n",
        "Generate insights from visualizations to better understand the dataset and highlight key findings.\n",
        "Visualize trends over time (e.g., monthly booking trends, changes in cancellation rates) using line plots or time series analysis.\n",
        "Insights and Recommendations:\n",
        "Summarize key insights obtained from the data analysis.\n",
        "Provide recommendations for hotel management based on the findings, such as optimizing booking strategies, improving customer satisfaction, and reducing cancellation rates.\n",
        "By completing these tasks, this project aims to provide actionable insights for hotel management to optimize their operations and enhance the overall guest experience.**Write Problem Statement Here.**"
      ],
      "metadata": {
        "id": "DpeJGUA3kjGy"
      }
    },
    {
      "cell_type": "markdown",
      "source": [
        "#### **Define Your Business Objective?**"
      ],
      "metadata": {
        "id": "PH-0ReGfmX4f"
      }
    },
    {
      "cell_type": "markdown",
      "source": [
        "Business Objective:\n",
        "\n",
        "The primary objective of this project is to leverage data analysis techniques to optimize the operations and improve the overall performance of the hotel business. By analyzing the hotel bookings dataset, the following specific goals are targeted:\n",
        "\n",
        "Enhance Booking Efficiency: Identify factors influencing booking patterns and optimize booking strategies to maximize occupancy rates and revenue generation.\n",
        "\n",
        "Reduce Booking Cancellations: Understand the drivers behind booking cancellations and implement measures to minimize cancellations, thereby increasing revenue stability and guest satisfaction.\n",
        "\n",
        "Improve Customer Experience: Gain insights into customer preferences and behavior to tailor services, such as meal offerings, room assignments, and special requests, to enhance the overall guest experience.\n",
        "\n",
        "Optimize Resource Allocation: Utilize data-driven insights to optimize resource allocation, such as staffing levels, room inventory management, and parking space availability, to meet guest demands efficiently.\n",
        "\n",
        "Inform Strategic Decision-Making: Provide actionable insights to inform strategic decision-making processes, including marketing strategies, pricing policies, and operational improvements, to drive sustainable business growth and competitiveness in the hospitality industry.\n",
        "\n",
        "By achieving these objectives, the project aims to contribute to the long-term success and profitability of the hotel business while ensuring exceptional guest satisfaction and loyalty."
      ],
      "metadata": {
        "id": "PhDvGCAqmjP1"
      }
    },
    {
      "cell_type": "markdown",
      "source": [
        "# ***Let's Begin !***"
      ],
      "metadata": {
        "id": "O_i_v8NEhb9l"
      }
    },
    {
      "cell_type": "markdown",
      "source": [
        "## ***1. Know Your Data***"
      ],
      "metadata": {
        "id": "HhfV-JJviCcP"
      }
    },
    {
      "cell_type": "markdown",
      "source": [
        "### Import Libraries"
      ],
      "metadata": {
        "id": "Y3lxredqlCYt"
      }
    },
    {
      "cell_type": "code",
      "source": [
        "\n",
        "# Import Libraries\n",
        "import pandas as pd\n",
        "import numpy as np\n",
        "import matplotlib.pyplot as plt\n",
        "import seaborn as sns"
      ],
      "metadata": {
        "id": "M8Vqi-pPk-HR"
      },
      "execution_count": null,
      "outputs": []
    },
    {
      "cell_type": "markdown",
      "source": [
        "### Dataset Loading"
      ],
      "metadata": {
        "id": "3RnN4peoiCZX"
      }
    },
    {
      "cell_type": "code",
      "source": [
        "# Load Dataset\n",
        "from google.colab import drive\n",
        "drive.mount('/content/drive')"
      ],
      "metadata": {
        "id": "4CkvbW_SlZ_R"
      },
      "execution_count": null,
      "outputs": []
    },
    {
      "cell_type": "code",
      "source": [
        "hotel_data = pd.read_csv('/content/drive/MyDrive/Almabetter Projects/Module 2/Hotel Bookings (1).csv')\n",
        "# Before we the EDA and clean our data analysis ready let's create a copy of the Data Frame.\n",
        "hotel_booking = hotel_data.copy()"
      ],
      "metadata": {
        "id": "yOOVsg2pvLmE"
      },
      "execution_count": null,
      "outputs": []
    },
    {
      "cell_type": "markdown",
      "source": [
        "### Dataset First View"
      ],
      "metadata": {
        "id": "x71ZqKXriCWQ"
      }
    },
    {
      "cell_type": "code",
      "source": [
        "#for firstview of data set using head function\n",
        "hotel_booking.head(10)"
      ],
      "metadata": {
        "id": "lew2ZaF6vJwP"
      },
      "execution_count": null,
      "outputs": []
    },
    {
      "cell_type": "code",
      "source": [
        "# Dataset First Look"
      ],
      "metadata": {
        "id": "LWNFOSvLl09H"
      },
      "execution_count": null,
      "outputs": []
    },
    {
      "cell_type": "markdown",
      "source": [
        "### Dataset Rows & Columns count"
      ],
      "metadata": {
        "id": "7hBIi_osiCS2"
      }
    },
    {
      "cell_type": "code",
      "source": [
        "# Dat# Dataset Rows & Columns count using shape\n",
        "row_count = hotel_booking.shape[0]\n",
        "column_count = hotel_booking.shape[1]\n",
        "print(f'There are {row_count} rows, and {column_count} columns in Hotel Booking Dataset')\n"
      ],
      "metadata": {
        "id": "Kllu7SJgmLij"
      },
      "execution_count": null,
      "outputs": []
    },
    {
      "cell_type": "markdown",
      "source": [
        "### Dataset Information"
      ],
      "metadata": {
        "id": "JlHwYmJAmNHm"
      }
    },
    {
      "cell_type": "code",
      "source": [
        "# Dataset Info\n",
        "hotel_booking.info()"
      ],
      "metadata": {
        "id": "e9hRXRi6meOf"
      },
      "execution_count": null,
      "outputs": []
    },
    {
      "cell_type": "markdown",
      "source": [
        "#### Duplicate Values"
      ],
      "metadata": {
        "id": "35m5QtbWiB9F"
      }
    },
    {
      "cell_type": "code",
      "source": [
        "# Dataset Duplicate Value Count\n",
        "duplicate_value=hotel_booking.duplicated().sum()\n",
        "print(f'There are {duplicate_value} duplicate values in Hotel Booking Dataset')"
      ],
      "metadata": {
        "id": "1sLdpKYkmox0"
      },
      "execution_count": null,
      "outputs": []
    },
    {
      "cell_type": "markdown",
      "source": [
        "#### Missing Values/Null Values"
      ],
      "metadata": {
        "id": "PoPl-ycgm1ru"
      }
    },
    {
      "cell_type": "code",
      "source": [
        "# Missing Values/Null Values Count\n",
        "missing_value=hotel_booking.isnull().sum()\n",
        "print(missing_value)"
      ],
      "metadata": {
        "id": "GgHWkxvamxVg"
      },
      "execution_count": null,
      "outputs": []
    },
    {
      "cell_type": "markdown",
      "source": [
        "The dataset contains missing values in multiple columns. The columns with missing values are **children**, **country**, **agent**, and **company**.\n",
        "\n",
        "The column **children** has 4 missing values.\n",
        "\n",
        "The column **country** has 488 missing values.\n",
        "\n",
        "The column **agent** has 16,340 missing values.\n",
        "\n",
        "The column **company** has 112,593 missing values."
      ],
      "metadata": {
        "id": "IVzlgmyqHahk"
      }
    },
    {
      "cell_type": "code",
      "source": [
        "# Visualizing the missing values\n",
        "plt.figure(figsize=(10, 6))\n",
        "sns.heatmap(hotel_booking.isnull(), cbar=False,cmap='viridis')\n",
        "plt.title('Missing Values in Hotel Booking Dataset')\n",
        "plt.show()\n",
        "\n"
      ],
      "metadata": {
        "id": "3q5wnI3om9sJ"
      },
      "execution_count": null,
      "outputs": []
    },
    {
      "cell_type": "markdown",
      "source": [
        "**Choice of Heatmap:**   I picked a heatmap to visualize missing values because it provides a clear visual representation of the presence and distribution of missing values in the dataset. Heatmaps allow us to quickly identify patterns and clusters of missingness across different columns and rows, providing insights into the completeness of the dataset.\n",
        "\n",
        "**Insights from the Chart**: The heatmap reveals the location of missing values in the dataset, with white cells indicating missing values and black cells indicating non-missing values."
      ],
      "metadata": {
        "id": "AU3De_QMJgUs"
      }
    },
    {
      "cell_type": "markdown",
      "source": [
        "### What did you know about your dataset?"
      ],
      "metadata": {
        "id": "H0kj-8xxnORC"
      }
    },
    {
      "cell_type": "markdown",
      "source": [
        "# Dataset name= Hotel booking\n",
        "\n",
        "\n",
        "1. Number of Columns: There are 32 columns in the dataset, each representing different attributes or features related to hotel bookings.\n",
        "\n",
        "2. Number of Rows: The dataset contains 119,390 entries or rows.\n",
        "\n",
        "3. Data Types: The dataset contains a mix of data types, including integers (int64), floats (float64), and objects (object). This suggests that the dataset includes both numerical and categorical variables.\n",
        "\n",
        "4. Duplicates Rows: The dataset contains 31,994 duplicate entries, indicating potential replication of information across various records.\n",
        "\n",
        "5. Missing Values: While the majority of columns contain complete data, several columns exhibit notable numbers of missing values. Specifically, the company column shows a substantial count of 112,593 missing values, while the agent column has 16,340 missing values. Additionally, the country and children columns contain 488 and 4 missing values, respectively."
      ],
      "metadata": {
        "id": "gfoNAAC-nUe_"
      }
    },
    {
      "cell_type": "markdown",
      "source": [
        "## ***2. Understanding Your Variables***"
      ],
      "metadata": {
        "id": "nA9Y7ga8ng1Z"
      }
    },
    {
      "cell_type": "code",
      "source": [
        "# Dataset Columns\n",
        "print(hotel_booking.columns.to_list())"
      ],
      "metadata": {
        "id": "j7xfkqrt5Ag5"
      },
      "execution_count": null,
      "outputs": []
    },
    {
      "cell_type": "code",
      "source": [
        "# Dataset Describe\n",
        "hotel_booking.describe()"
      ],
      "metadata": {
        "id": "DnOaZdaE5Q5t"
      },
      "execution_count": null,
      "outputs": []
    },
    {
      "cell_type": "markdown",
      "source": [
        "### Variables Description"
      ],
      "metadata": {
        "id": "PBTbrJXOngz2"
      }
    },
    {
      "cell_type": "markdown",
      "source": [
        "hotel: Type of hotel (resort hotel, city hotel)\n",
        "\n",
        "is_canceled: Binary indicator of whether the booking was canceled (1 = canceled, 0 = not canceled).\n",
        "\n",
        "lead_time: Number of days between booking date and arrival date.\n",
        "\n",
        "arrival_date_year: Year of arrival date.\n",
        "\n",
        "arrival_date_month: Month of arrival date.\n",
        "\n",
        "arrival_date_week_number: Week number of arrival date.\n",
        "\n",
        "arrival_date_day_of_month: Day of the month of arrival date.\n",
        "\n",
        "stays_in_weekend_nights: Number of weekend nights stayed.\n",
        "\n",
        "stays_in_week_nights: Number of week nights stayed.\n",
        "\n",
        "adults: Number of adults included in the booking.\n",
        "\n",
        "children: Number of children included in the booking.\n",
        "\n",
        "babies: Number of babies included in the booking.\n",
        "\n",
        "meal: Type of meal booked (HB,FB, BB).\n",
        "\n",
        "country: Country of origin.\n",
        "\n",
        "market_segment: Market segment designation (Online Travel Agents(Online TA), Offline Travel Agents(Ofline TA/TO)).\n",
        "\n",
        "distribution_channel: Booking distribution channel ( Direct, Corporate,TA/TO)\n",
        "\n",
        "is_repeated_guest: Binary indicator of whether the guest is a repeated guest (1 = yes, 0 = no).\n",
        "\n",
        "previous_cancellations: Number of previous cancellations by the guest(0=no,1=yes).\n",
        "\n",
        "previous_bookings_not_canceled: Number of previous bookings not canceled by the guest(0=no,1=yes).\n",
        "\n",
        "reserved_room_type: Code of room type reserved.\n",
        "\n",
        "assigned_room_type: Code of room type assigned.\n",
        "\n",
        "booking_changes: Number of changes made to the booking\n",
        "\n",
        "deposit_type: Type of deposit made for the booking (e.g., No Deposit, Non Refund, Refundable).\n",
        "\n",
        "agent: ID of the travel agency that made the booking.\n",
        "\n",
        "company: ID of the company/entity that made the booking.\n",
        "\n",
        "days_in_waiting_list: Number of days the booking was on the waiting list before confirmed.\n",
        "\n",
        "customer_type: Type of booking customer ( Transient, Contract, Group).\n",
        "\n",
        "adr: Average Daily Rate (average rental income per paid occupied room).\n",
        "\n",
        "required_car_parking_spaces: Number of car parking spaces required by the guest.\n",
        "\n",
        "total_of_special_requests: Number of special requests made by the guest.\n",
        "\n",
        "reservation_status: Reservation status (e.g., Canceled, Check-Out).\n",
        "\n",
        "reservation_status_date: Date at which the reservation status was last updated."
      ],
      "metadata": {
        "id": "l6kSgcMKLkzx"
      }
    },
    {
      "cell_type": "markdown",
      "source": [],
      "metadata": {
        "id": "aJV4KIxSnxay"
      }
    },
    {
      "cell_type": "markdown",
      "source": [
        "### Check Unique Values for each variable."
      ],
      "metadata": {
        "id": "u3PMJOP6ngxN"
      }
    },
    {
      "cell_type": "code",
      "source": [
        "# Check Unique Values for each variable.\n",
        "for i in hotel_booking.columns.tolist():\n",
        "  print(\" column\",i,\"has \",hotel_booking[i].nunique() ,\" unique values \")"
      ],
      "metadata": {
        "id": "zms12Yq5n-jE"
      },
      "execution_count": null,
      "outputs": []
    },
    {
      "cell_type": "markdown",
      "source": [
        "## 3. ***Data Wrangling***"
      ],
      "metadata": {
        "id": "dauF4eBmngu3"
      }
    },
    {
      "cell_type": "markdown",
      "source": [
        "### Data Wrangling Code"
      ],
      "metadata": {
        "id": "bKJF3rekwFvQ"
      }
    },
    {
      "cell_type": "code",
      "source": [
        "# Write your code to make your dataset analysis ready.\n",
        "# Let's Start with data cleaning.\n",
        "# Remove duplicate rows from the hotel_booking DataFrame, modifying it in place\n",
        "hotel_booking.drop_duplicates(inplace=True)"
      ],
      "metadata": {
        "id": "wk-9a2fpoLcV"
      },
      "execution_count": null,
      "outputs": []
    },
    {
      "cell_type": "code",
      "source": [
        "#dealing with missing values\n",
        "# fill missing values in Children column because it contains 4 null value that means no children.\n",
        "hotel_booking['children'].fillna(0,inplace=True)"
      ],
      "metadata": {
        "id": "WSfkYh3ZQUuB"
      },
      "execution_count": null,
      "outputs": []
    },
    {
      "cell_type": "code",
      "source": [
        "#dealing with missing values\n",
        "# fill missing values in Country column because it contains too many null value.\n",
        "hotel_booking['country'].fillna(\"Not Specified \",inplace=True)"
      ],
      "metadata": {
        "id": "R2ZPsemNQ3b9"
      },
      "execution_count": null,
      "outputs": []
    },
    {
      "cell_type": "code",
      "source": [
        "#dealing with missing values\n",
        "# Fill missing values in the 'agent' column with 'N/A' since agent column holds Agent ID it is best replacing null with \"N/A\"\n",
        "hotel_booking['agent'] = hotel_booking['agent'].fillna('N/A')"
      ],
      "metadata": {
        "id": "p_cFfaVDRZvL"
      },
      "execution_count": null,
      "outputs": []
    },
    {
      "cell_type": "code",
      "source": [
        "# Calculate total stay by the number of weekend nights and week nights\n",
        "hotel_booking['total_stay'] = hotel_booking['stays_in_weekend_nights'] + hotel_booking['stays_in_week_nights']"
      ],
      "metadata": {
        "id": "PtY5Z84ERtd5"
      },
      "execution_count": null,
      "outputs": []
    },
    {
      "cell_type": "code",
      "source": [
        "# Calculate total number of kids by summing up the number of babies and children\n",
        "hotel_booking['total_kids'] = hotel_booking['babies'] + hotel_booking['children']"
      ],
      "metadata": {
        "id": "0Tr0ZQirSAVB"
      },
      "execution_count": null,
      "outputs": []
    },
    {
      "cell_type": "code",
      "source": [
        "# Create a new date cloumn.\n",
        "hotel_booking['arrival_date'] =pd.to_datetime(hotel_booking['arrival_date_year'].astype(str) + '-' + hotel_booking['arrival_date_month'] + '-' + hotel_booking['arrival_date_day_of_month'].astype(str))\n"
      ],
      "metadata": {
        "id": "Snv3k00bSDr_"
      },
      "execution_count": null,
      "outputs": []
    },
    {
      "cell_type": "code",
      "source": [
        "# Calculate total cost by multiplying the average daily rate (adr) by the total stay\n",
        "hotel_booking['total_cost'] = hotel_booking['adr'] * hotel_booking['total_stay']"
      ],
      "metadata": {
        "id": "K_TAiyoOUVMM"
      },
      "execution_count": null,
      "outputs": []
    },
    {
      "cell_type": "code",
      "source": [
        "# Get a list of column in the hotel_booking DataFrame\n",
        "hotel_booking.columns.to_list()\n"
      ],
      "metadata": {
        "id": "O8-uswh7UsMM"
      },
      "execution_count": null,
      "outputs": []
    },
    {
      "cell_type": "code",
      "source": [
        "# Display the first few rows of the hotel_booking DataFrame\n",
        "hotel_booking.head(5)"
      ],
      "metadata": {
        "id": "fko92Gz9U8s8"
      },
      "execution_count": null,
      "outputs": []
    },
    {
      "cell_type": "code",
      "source": [
        "#count of rows and columns in hotel_booking data frame\n",
        "hotel_booking.shape"
      ],
      "metadata": {
        "id": "DsBct6VzVFDV"
      },
      "execution_count": null,
      "outputs": []
    },
    {
      "cell_type": "code",
      "source": [
        "# information of hotel_booking dataframe\n",
        "hotel_booking.info()"
      ],
      "metadata": {
        "id": "KV9WhHsWVZNi"
      },
      "execution_count": null,
      "outputs": []
    },
    {
      "cell_type": "markdown",
      "source": [
        "### What all manipulations have you done and insights you found?"
      ],
      "metadata": {
        "id": "MSa1f5Uengrz"
      }
    },
    {
      "cell_type": "markdown",
      "source": [
        "\n",
        "Removed duplicate rows from the hotel_booking DataFrame.\n",
        "\n",
        "Dropped the Company column due to a high number of null values.\n",
        "\n",
        "Filled missing values in the agent column with 'N/A' to represent unspecified agents.\n",
        "\n",
        "Fill missing values  in the children column with 0.\n",
        "\n",
        "Filled missing values in the country column with 'Not Specified' to handle missing categorical data.\n",
        "\n",
        "Created a column named total stay by summing up the number of weekend nights and week nights columns.\n",
        "\n",
        "Created a column named total number of kids by summing up the number of babies and children.\n",
        "\n",
        "Created a column named total cost by multiplying the average daily rate (adr) by the total stay.\n",
        "\n",
        "Created a column named arrival date by concat and converting arrival_date_year, arrival_date_month and arrival_date_day_of_month.\n",
        "\n",
        "#Insights:\n",
        "**Booking Trends:** Analysis of arrival_date_month and arrival_date_week_number can reveal seasonal booking patterns. Understanding which months or weeks have higher booking rates can help in optimizing pricing and staffing.\n",
        "\n",
        "**Cancellation Patterns:** Explore the is_canceled column to understand the frequency and reasons for booking cancellations. Identify factors contributing to cancellations, such as lead time, booking changes, or previous cancellations.\n",
        "\n",
        "**Guest Demographics:** Analyze the distribution of adults, children, and babies to understand the composition of guests. Explore the country column to identify the primary source markets for the hotel. Segment guests based on customer type or market segment to tailor marketing strategies.\n",
        "\n",
        "**Financial Analysis:** Calculate average daily rates (ADR) and total costs to assess revenue generation and pricing strategies. Investigate the impact of booking changes or special requests on total revenue. Compare revenue from different market segments or customer types to identify high-value segments."
      ],
      "metadata": {
        "id": "LG4T-AseV0du"
      }
    },
    {
      "cell_type": "markdown",
      "source": [
        "## ***4. Data Vizualization, Storytelling & Experimenting with charts : Understand the relationships between variables***"
      ],
      "metadata": {
        "id": "GF8Ens_Soomf"
      }
    },
    {
      "cell_type": "markdown",
      "source": [
        "#### Chart - 1"
      ],
      "metadata": {
        "id": "0wOQAZs5pc--"
      }
    },
    {
      "cell_type": "code",
      "source": [
        "# Chart - 1 visualization code\n",
        "#Booking of Hotel Types\n",
        "hotel_category=hotel_booking['hotel'].value_counts()\n",
        "hotel_category"
      ],
      "metadata": {
        "id": "7v_ESjsspbW7"
      },
      "execution_count": null,
      "outputs": []
    },
    {
      "cell_type": "code",
      "source": [
        "# Chart - 1 visualization code\n",
        "# Plotting\n",
        "# Create a pie chart\n",
        "plt.figure(figsize=(8, 6))\n",
        "plt.pie(hotel_category.values, labels=hotel_category.index, autopct='%1.1f%%', startangle=90)\n",
        "plt.title('Booking of Hotel Types')\n",
        "plt.axis('equal')  # Equal aspect ratio ensures that pie is drawn as a circle.\n",
        "plt.show()"
      ],
      "metadata": {
        "id": "P-b8WCUMYkBs"
      },
      "execution_count": null,
      "outputs": []
    },
    {
      "cell_type": "markdown",
      "source": [
        "##### 1. Why did you pick the specific chart?\n",
        "\n",
        "Pie charts are effective when we want to visualize the relative contribution of each category to the whole dataset."
      ],
      "metadata": {
        "id": "K5QZ13OEpz2H"
      }
    },
    {
      "cell_type": "markdown",
      "source": [
        "##### 2. What is/are the insight(s) found from the chart?"
      ],
      "metadata": {
        "id": "lQ7QKXXCp7Bj"
      }
    },
    {
      "cell_type": "markdown",
      "source": [
        "City Hotels are preferred over Resort Hotels.\n"
      ],
      "metadata": {
        "id": "C_j1G7yiqdRP"
      }
    },
    {
      "cell_type": "markdown",
      "source": [
        "##### 3. Will the gained insights help creating a positive business impact?\n",
        "Are there any insights that lead to negative growth? Justify with specific reason."
      ],
      "metadata": {
        "id": "448CDAPjqfQr"
      }
    },
    {
      "cell_type": "markdown",
      "source": [
        "Yes, gaining insights into customer preferences, such as the tendency to choose City Hotels over Resort Hotels, can indeed lead to positive business impacts. Like Target Marketing, Resource Allocation and much more."
      ],
      "metadata": {
        "id": "3cspy4FjqxJW"
      }
    },
    {
      "cell_type": "markdown",
      "source": [
        "#### Chart - 2"
      ],
      "metadata": {
        "id": "KSlN3yHqYklG"
      }
    },
    {
      "cell_type": "markdown",
      "source": [
        "# **The top 5 countries and calculate the average behavior**"
      ],
      "metadata": {
        "id": "LigeBQ8LKCOj"
      }
    },
    {
      "cell_type": "code",
      "source": [
        "#Top  countries of origin for hotel guests based on the number of bookings.\n",
        "top_country = hotel_booking['country'].value_counts().reset_index()\n",
        "#top_country.rename(columns = {'index':'country', 'country':'booking_count'}, inplace=True)\n",
        "top5_country = top_country.head(5)"
      ],
      "metadata": {
        "id": "dxXj311uD6aZ"
      },
      "execution_count": null,
      "outputs": []
    },
    {
      "cell_type": "code",
      "source": [
        "# Filter bookings for the top 5 countries and calculate the average behavior\n",
        "top_country_behaviour = hotel_booking[hotel_booking['country'].isin(top5_country['country'])].groupby('country').agg({'stays_in_weekend_nights':'mean', 'adr':'mean', 'stays_in_week_nights': 'mean'}).reset_index()\n",
        "\n",
        "# Print the dataframe containing average behavior for top 5 countries\n",
        "top_country_behaviour"
      ],
      "metadata": {
        "id": "Ab3FbJ2rGSD6"
      },
      "execution_count": null,
      "outputs": []
    },
    {
      "cell_type": "code",
      "source": [
        "# Chart - 2 visualization code\n",
        "\n",
        "# Create subplots\n",
        "fig, axes = plt.subplots(2, 1, figsize=(6, 10))\n",
        "# Plot ADR\n",
        "sns.barplot(ax=axes[0], data=top_country_behaviour, x='country', y='adr', color='skyblue')\n",
        "axes[0].set_ylabel('AVG ADR')\n",
        "# Plot Week Nights\n",
        "sns.barplot(ax=axes[1], data=top_country_behaviour, x='country', y='stays_in_week_nights', color='lightgreen')\n",
        "# Plot Weekend Nights\n",
        "sns.barplot(ax=axes[1], data=top_country_behaviour, x='country', y='stays_in_weekend_nights', color='salmon')\n",
        "axes[1].set_ylabel('AVG Stays Nights')\n",
        "# Add title\n",
        "plt.suptitle('Average Behavior by Country', fontsize=16)\n",
        "\n",
        "plt.tight_layout()\n",
        "plt.show()"
      ],
      "metadata": {
        "id": "R4YgtaqtYklH"
      },
      "execution_count": null,
      "outputs": []
    },
    {
      "cell_type": "markdown",
      "source": [
        "##### 1. Why did you pick the specific chart?"
      ],
      "metadata": {
        "id": "t6dVpIINYklI"
      }
    },
    {
      "cell_type": "markdown",
      "source": [
        "I chose a bar plot because it effectively displays the booking counts for each country."
      ],
      "metadata": {
        "id": "5aaW0BYyYklI"
      }
    },
    {
      "cell_type": "markdown",
      "source": [
        "##### 2. What is/are the insight(s) found from the chart?"
      ],
      "metadata": {
        "id": "ijmpgYnKYklI"
      }
    },
    {
      "cell_type": "markdown",
      "source": [
        "Portugal (PRT) has the highest booking count, indicating a significant customer base. The United Kingdom (GBR) follows with a substantial booking count, suggesting a strong presence of British travelers. The data reflects a diverse customer base from multiple countries. France (FRA), Spain (ESP), and Germany (DEU) also contribute notable booking counts, highlighting potential market opportunities."
      ],
      "metadata": {
        "id": "PSx9atu2YklI"
      }
    },
    {
      "cell_type": "markdown",
      "source": [
        "##### 3. Will the gained insights help creating a positive business impact?\n",
        "Are there any insights that lead to negative growth? Justify with specific reason."
      ],
      "metadata": {
        "id": "-JiQyfWJYklI"
      }
    },
    {
      "cell_type": "markdown",
      "source": [
        "Understanding the origin countries of customers provides insights into the hotel's customer demographics, which can inform marketing strategies, service offerings, and overall customer experience initiatives."
      ],
      "metadata": {
        "id": "BcBbebzrYklV"
      }
    },
    {
      "cell_type": "markdown",
      "source": [
        "#### Chart - 3"
      ],
      "metadata": {
        "id": "EM7whBJCYoAo"
      }
    },
    {
      "cell_type": "markdown",
      "source": [
        "# **Top 5 countries of origin for hotel guests based on the number of bookings.**"
      ],
      "metadata": {
        "id": "K0Im_QPfKjAk"
      }
    },
    {
      "cell_type": "code",
      "source": [
        "# Chart - 3 visualization code\n",
        "#Top 5 countries of origin for hotel guests based on the number of bookings.\n",
        "top_country = hotel_booking['country'].value_counts().reset_index().head(5)\n",
        "print(top_country)"
      ],
      "metadata": {
        "id": "t6GMdE67YoAp"
      },
      "execution_count": null,
      "outputs": []
    },
    {
      "cell_type": "code",
      "source": [
        "#visualization for top 5 country\n",
        "plt.figure(figsize=(10, 6))\n",
        "sns.barplot(x='country', y='count', data=top_country)\n",
        "plt.title('Top 5 Countries based on the number of booking')\n",
        "plt.xlabel('Country')\n",
        "plt.ylabel('Number of Bookings')\n",
        "plt.show()"
      ],
      "metadata": {
        "id": "AfUTjLPsal-h"
      },
      "execution_count": null,
      "outputs": []
    },
    {
      "cell_type": "markdown",
      "source": [
        "##### 1. Why did you pick the specific chart?"
      ],
      "metadata": {
        "id": "fge-S5ZAYoAp"
      }
    },
    {
      "cell_type": "markdown",
      "source": [
        "I chose a bar plot because it effectively displays the booking counts for each country."
      ],
      "metadata": {
        "id": "5dBItgRVYoAp"
      }
    },
    {
      "cell_type": "markdown",
      "source": [
        "##### 2. What is/are the insight(s) found from the chart?"
      ],
      "metadata": {
        "id": "85gYPyotYoAp"
      }
    },
    {
      "cell_type": "markdown",
      "source": [
        "Portugal (PRT) has the highest booking count, indicating a significant customer base. The United Kingdom (GBR) follows with a substantial booking count, suggesting a strong presence of British travelers. The data reflects a diverse customer base from multiple countries. France (FRA), Spain (ESP), and Germany (DEU) also contribute notable booking counts, highlighting potential market opportunities."
      ],
      "metadata": {
        "id": "4jstXR6OYoAp"
      }
    },
    {
      "cell_type": "markdown",
      "source": [
        "##### 3. Will the gained insights help creating a positive business impact?\n",
        "Are there any insights that lead to negative growth? Justify with specific reason."
      ],
      "metadata": {
        "id": "RoGjAbkUYoAp"
      }
    },
    {
      "cell_type": "markdown",
      "source": [
        "Understanding the origin countries of customers provides insights into the hotel's customer demographics, which can inform marketing strategies, service offerings, and overall customer experience initiatives."
      ],
      "metadata": {
        "id": "zfJ8IqMcYoAp"
      }
    },
    {
      "cell_type": "markdown",
      "source": [
        "#### Chart - 4"
      ],
      "metadata": {
        "id": "4Of9eVA-YrdM"
      }
    },
    {
      "cell_type": "code",
      "source": [
        "# Chart - 4 visualization code\n",
        "#revenue by market segment\n",
        "rev_market_segment = hotel_booking.groupby('market_segment')['total_cost'].sum().reset_index()\n",
        "print(rev_market_segment)"
      ],
      "metadata": {
        "id": "ku--o8MYuBnG"
      },
      "execution_count": null,
      "outputs": []
    },
    {
      "cell_type": "code",
      "source": [
        "# Chart - 17 visualization code\n",
        "plt.figure(figsize=(8, 8))\n",
        "# Define colors using Seaborn color palette\n",
        "colors = sns.color_palette('pastel')\n",
        "#Plot the pie\n",
        "plt.pie(rev_market_segment['total_cost'], labels=rev_market_segment['market_segment'], autopct='%1.2f%%', startangle=270, colors=colors)\n",
        "\n",
        "plt.title('Total Revenue by Market Segment')\n",
        "plt.axis('equal')  # Equal aspect ratio ensures that pie is drawn as a circle.\n",
        "plt.show()"
      ],
      "metadata": {
        "id": "1Wqu0cIhuDrE"
      },
      "execution_count": null,
      "outputs": []
    },
    {
      "cell_type": "markdown",
      "source": [
        "##### 1. Why did you pick the specific chart?"
      ],
      "metadata": {
        "id": "iky9q4vBYrdO"
      }
    },
    {
      "cell_type": "markdown",
      "source": [
        "A pie chart is a useful visualization for displaying the distribution of a categorical variable, such as market segments in this case. It provides a clear visual representation of the proportions of each segment relative to the whole."
      ],
      "metadata": {
        "id": "aJRCwT6DYrdO"
      }
    },
    {
      "cell_type": "markdown",
      "source": [
        "##### 2. What is/are the insight(s) found from the chart?"
      ],
      "metadata": {
        "id": "F6T5p64dYrdO"
      }
    },
    {
      "cell_type": "markdown",
      "source": [
        "The pie chart reveals that:\n",
        "\n",
        "Online Travel Agents (Online TA) contribute the most to revenue, accounting for 63.4%.\n",
        "\n",
        "Offline Travel Agents/ Tour Operators (Offline TA/TO) follow with 17.1%.\n",
        "\n",
        "Direct bookings make up 13.6% of revenue.\n",
        "\n",
        "Corporate bookings contribute 3.3%.\n",
        "\n",
        "Group bookings represent 2.4%.\n",
        "\n",
        "Aviation bookings contribute the least, at 0.2%.\n",
        "\n",
        "In summary, online travel agents dominate revenue generation for the hotel, followed by offline agents, direct bookings, and corporate clients.\n",
        "\n"
      ],
      "metadata": {
        "id": "Xx8WAJvtYrdO"
      }
    },
    {
      "cell_type": "markdown",
      "source": [
        "##### 3. Will the gained insights help creating a positive business impact?\n",
        "Are there any insights that lead to negative growth? Justify with specific reason."
      ],
      "metadata": {
        "id": "y-Ehk30pYrdP"
      }
    },
    {
      "cell_type": "markdown",
      "source": [
        "The insights gained from analyzing revenue by market segment enable the hotel to:\n",
        "\n",
        "Target marketing efforts effectively.\n",
        "\n",
        "Allocate resources efficiently.\n",
        "\n",
        "Enhance customer experience.\n",
        "\n",
        "Diversify revenue streams.\n",
        "\n",
        "Make informed strategic decisions.\n",
        "\n",
        "Overall, these insights support positive business impact by optimizing operations, increasing guest satisfaction, and driving sustainable growth."
      ],
      "metadata": {
        "id": "jLNxxz7MYrdP"
      }
    },
    {
      "cell_type": "markdown",
      "source": [
        "#### Chart - 5"
      ],
      "metadata": {
        "id": "bamQiAODYuh1"
      }
    },
    {
      "cell_type": "markdown",
      "source": [
        "# **the average stay duration for city and resort hotels**"
      ],
      "metadata": {
        "id": "hkPxoVww4Ix7"
      }
    },
    {
      "cell_type": "code",
      "source": [
        "# Chart - 5 visualization code\n",
        "# Calculate the average stay duration for city and resort hotels\n",
        "avg_stay_by_type = hotel_booking.groupby('hotel')['total_stay'].mean().reset_index()"
      ],
      "metadata": {
        "id": "TIJwrbroYuh3"
      },
      "execution_count": null,
      "outputs": []
    },
    {
      "cell_type": "code",
      "source": [
        "# average stay duration for city and resort hotels bar graph\n",
        "\n",
        "plt.figure(figsize=(8, 6))\n",
        "sns.barplot(x='hotel', y='total_stay', data=avg_stay_by_type)\n",
        "plt.title('Average Stay Duration by Hotel Type')\n",
        "plt.xlabel('Hotel Type')\n",
        "plt.ylabel('Average Stay Duration (Nights)')\n",
        "plt.show()\n"
      ],
      "metadata": {
        "id": "Duad9Kjvvz1V"
      },
      "execution_count": null,
      "outputs": []
    },
    {
      "cell_type": "markdown",
      "source": [
        "##### 1. Why did you pick the specific chart?"
      ],
      "metadata": {
        "id": "QHF8YVU7Yuh3"
      }
    },
    {
      "cell_type": "markdown",
      "source": [
        "Considering the nature of the data (categorical hotel types and numerical average stay duration) and the objective of comparing these values, a bar plot is a suitable and effective visualization choice."
      ],
      "metadata": {
        "id": "dcxuIMRPYuh3"
      }
    },
    {
      "cell_type": "markdown",
      "source": [
        "##### 2. What is/are the insight(s) found from the chart?"
      ],
      "metadata": {
        "id": "GwzvFGzlYuh3"
      }
    },
    {
      "cell_type": "markdown",
      "source": [
        "The analysis of stay duration shows that the average stay duration for the City Hotel is approximately 2.98 days, while for the Resort Hotel, it is around 4.32 days. This indicates that guests tend to stay longer at Resort Hotels compared to City Hotels.Answer Here"
      ],
      "metadata": {
        "id": "uyqkiB8YYuh3"
      }
    },
    {
      "cell_type": "markdown",
      "source": [
        "##### 3. Will the gained insights help creating a positive business impact?\n",
        "Are there any insights that lead to negative growth? Justify with specific reason."
      ],
      "metadata": {
        "id": "qYpmQ266Yuh3"
      }
    },
    {
      "cell_type": "markdown",
      "source": [
        "Yes, the insights gained from analyzing the average stay duration between City Hotels and Resort Hotels can indeed help create a positive business impact. Here's how:\n",
        "\n",
        "Revenue Generation: Longer average stays at Resort Hotels can lead to increased revenue opportunities through extended room bookings, higher occupancy rates, and additional spending on hotel amenities, dining, and recreational activities. This can contribute to higher overall revenue and profitability for Resort Hotels compared to City Hotels.\n",
        "\n",
        "Customer Satisfaction and Loyalty: Understanding guest preferences for longer stays at Resort Hotels enables hoteliers to tailor their services and amenities to meet the needs of their target audience effectively. Providing a memorable and enjoyable experience for guests can lead to higher satisfaction levels, positive reviews, and increased customer loyalty, ultimately driving repeat business and referrals.\n",
        "\n",
        "Marketing and Sales Strategies: Insights into guest behavior regarding stay duration can inform targeted marketing campaigns and sales strategies. Resort Hotels can highlight their appeal for longer vacations, family getaways, and leisure travel in their promotional materials, social media campaigns, and advertising efforts to attract potential guests seeking extended stays.\n",
        "\n"
      ],
      "metadata": {
        "id": "_WtzZ_hCYuh4"
      }
    },
    {
      "cell_type": "markdown",
      "source": [
        "#### Chart - 6"
      ],
      "metadata": {
        "id": "OH-pJp9IphqM"
      }
    },
    {
      "cell_type": "markdown",
      "source": [
        "# **Number of Booking with and without kids**"
      ],
      "metadata": {
        "id": "kIrcJskpx4ZE"
      }
    },
    {
      "cell_type": "code",
      "source": [
        "# Booking with kids\n",
        "with_kids = hotel_booking[hotel_booking['total_kids'] > 0]\n",
        "# Booking without kids\n",
        "without_kids = hotel_booking[hotel_booking['total_kids'] == 0] # removed extra space before this line\n",
        "# Calculate the number of bookings with kids and families without kids\n",
        "num_booking_kids = len(with_kids)\n",
        "\n",
        "num_booking_no_kids = len(without_kids)"
      ],
      "metadata": {
        "id": "5WKetZrhyFJ_"
      },
      "execution_count": null,
      "outputs": []
    },
    {
      "cell_type": "code",
      "source": [
        "# Chart - 6 visualization code\n",
        "\n",
        "# Create a bar plot\n",
        "plt.bar(['With Kids', 'Without Kids'], [num_booking_kids, num_booking_no_kids])\n",
        "\n",
        "# Add title and labels\n",
        "plt.title('Number of Bookings with and without Kids')\n",
        "plt.xlabel('Family Type')\n",
        "plt.ylabel('Number of Bookings')\n",
        "\n",
        "plt.grid(axis='y', linestyle='--', alpha=0.7)\n",
        "\n",
        "# Show plot\n",
        "plt.show()\n"
      ],
      "metadata": {
        "id": "kuRf4wtuphqN"
      },
      "execution_count": null,
      "outputs": []
    },
    {
      "cell_type": "markdown",
      "source": [
        "##### 1. Why did you pick the specific chart?"
      ],
      "metadata": {
        "id": "bbFf2-_FphqN"
      }
    },
    {
      "cell_type": "markdown",
      "source": [
        "Choosing a bar chart for visualizing the number of bookings for families with kids and families without kids is appropriate due to the categorical nature of the variables being compared (i.e., family type). Bar charts are well-suited for representing categorical data and comparing the frequency or count of different categories."
      ],
      "metadata": {
        "id": "loh7H2nzphqN"
      }
    },
    {
      "cell_type": "markdown",
      "source": [
        "##### 2. What is/are the insight(s) found from the chart?"
      ],
      "metadata": {
        "id": "_ouA3fa0phqN"
      }
    },
    {
      "cell_type": "markdown",
      "source": [
        "The bar chart comparing the number of bookings for families with kids and families without kids provides the following insights:\n",
        "\n",
        "Significant Difference in Booking Numbers: There is a notable difference in the number of bookings between families with kids and families without kids. Specifically, there are substantially more bookings for families without kids compared to families with kids.\n",
        "\n",
        "Higher Number of Bookings for Families without Kids: The chart clearly indicates that the majority of bookings are made by families without kids. This suggests that families without kids may represent a larger segment of the hotel's clientele or that they tend to book more frequently compared to families with kids"
      ],
      "metadata": {
        "id": "VECbqPI7phqN"
      }
    },
    {
      "cell_type": "markdown",
      "source": [
        "##### 3. Will the gained insights help creating a positive business impact?\n",
        "Are there any insights that lead to negative growth? Justify with specific reason."
      ],
      "metadata": {
        "id": "Seke61FWphqN"
      }
    },
    {
      "cell_type": "markdown",
      "source": [
        "Yes, the insights gained from analyzing the number of bookings for families with kids and families without kids can indeed help create a positive business impact. Here's how:\n",
        "\n",
        "Targeted Marketing Strategies: Understanding the disparity in booking numbers between families with and without kids enables hotels to tailor their marketing strategies to better reach and attract each segment. By developing targeted campaigns and promotions that resonate with the specific needs and preferences of families with or without kids, hotels can increase bookings and revenue.\n",
        "\n",
        "Enhanced Customer Experience: Armed with insights into the demographics and booking behaviors of their guests, hotels can tailor their services, amenities, and experiences to better meet the needs of different customer segments. By providing personalized and relevant offerings, hotels can enhance the overall customer experience, leading to higher satisfaction levels, positive reviews, and repeat business.\n",
        "\n",
        "Insight: Majority of Bookings are from Families without Kids"
      ],
      "metadata": {
        "id": "DW4_bGpfphqN"
      }
    },
    {
      "cell_type": "markdown",
      "source": [
        "#### Chart - 7"
      ],
      "metadata": {
        "id": "PIIx-8_IphqN"
      }
    },
    {
      "cell_type": "code",
      "source": [
        "# Chart - 7 visualization code"
      ],
      "metadata": {
        "id": "lqAIGUfyphqO"
      },
      "execution_count": null,
      "outputs": []
    },
    {
      "cell_type": "markdown",
      "source": [
        "##### 1. Why did you pick the specific chart?"
      ],
      "metadata": {
        "id": "t27r6nlMphqO"
      }
    },
    {
      "cell_type": "markdown",
      "source": [
        "Answer Here."
      ],
      "metadata": {
        "id": "iv6ro40sphqO"
      }
    },
    {
      "cell_type": "markdown",
      "source": [
        "##### 2. What is/are the insight(s) found from the chart?"
      ],
      "metadata": {
        "id": "r2jJGEOYphqO"
      }
    },
    {
      "cell_type": "markdown",
      "source": [
        "Answer Here"
      ],
      "metadata": {
        "id": "Po6ZPi4hphqO"
      }
    },
    {
      "cell_type": "markdown",
      "source": [
        "##### 3. Will the gained insights help creating a positive business impact?\n",
        "Are there any insights that lead to negative growth? Justify with specific reason."
      ],
      "metadata": {
        "id": "b0JNsNcRphqO"
      }
    },
    {
      "cell_type": "markdown",
      "source": [
        "Answer Here"
      ],
      "metadata": {
        "id": "xvSq8iUTphqO"
      }
    },
    {
      "cell_type": "markdown",
      "source": [
        "#### Chart - 8"
      ],
      "metadata": {
        "id": "BZR9WyysphqO"
      }
    },
    {
      "cell_type": "markdown",
      "source": [
        "# **Total Revenue Generated based on Hotel Type**"
      ],
      "metadata": {
        "id": "0-YggaA-7qD4"
      }
    },
    {
      "cell_type": "code",
      "source": [
        "# Chart - 8 visualization code\n",
        "# Calculate total revenue by hotel type\n",
        "total_revenue = hotel_booking.groupby('hotel')['total_cost'].sum()\n",
        "\n",
        "# Create a pie chart\n",
        "plt.figure(figsize=(8, 6))\n",
        "plt.pie(total_revenue.values, labels=total_revenue.index, autopct='%1.1f%%', startangle=90)\n",
        "plt.title('Total Revenue by Hotel Type')\n",
        "plt.axis('equal')  # Equal aspect ratio ensures that pie is drawn as a circle.\n",
        "plt.show()\n",
        "\n"
      ],
      "metadata": {
        "id": "TdPTWpAVphqO"
      },
      "execution_count": null,
      "outputs": []
    },
    {
      "cell_type": "markdown",
      "source": [
        "##### 1. Why did you pick the specific chart?"
      ],
      "metadata": {
        "id": "jj7wYXLtphqO"
      }
    },
    {
      "cell_type": "markdown",
      "source": [
        "A pie chart is a good choice for visualizing the distribution of revenue among hotels because it effectively communicates proportions, is easy to interpret, and provides a visually appealing representation of the data."
      ],
      "metadata": {
        "id": "Ob8u6rCTphqO"
      }
    },
    {
      "cell_type": "markdown",
      "source": [
        "##### 2. What is/are the insight(s) found from the chart?"
      ],
      "metadata": {
        "id": "eZrbJ2SmphqO"
      }
    },
    {
      "cell_type": "markdown",
      "source": [
        "From the pie chart representing the distribution of total revenue among different hotels, several insights can be derived:\n",
        "\n",
        "City Hotel Dominance: The City Hotel appears to generate a larger portion of the total revenue compared to the Resort Hotel. This insight suggests that the City Hotel may have higher demand or higher-priced bookings compared to the Resort Hotel.\n",
        "\n",
        "Revenue Disparity: There seems to be a significant difference in revenue between the two hotels. This could indicate varying levels of popularity, pricing strategies, or amenities offered by each hotel."
      ],
      "metadata": {
        "id": "mZtgC_hjphqO"
      }
    },
    {
      "cell_type": "markdown",
      "source": [
        "##### 3. Will the gained insights help creating a positive business impact?\n",
        "Are there any insights that lead to negative growth? Justify with specific reason."
      ],
      "metadata": {
        "id": "rFu4xreNphqO"
      }
    },
    {
      "cell_type": "markdown",
      "source": [
        "Analyzing revenue distribution between the City Hotel and the Resort Hotel provides insights for targeted marketing, revenue optimization, enhanced customer experience, competitive positioning, and informed decision-making. Implementing these insights can lead to increased revenue, profitability, and sustained growth for the business."
      ],
      "metadata": {
        "id": "ey_0qi68phqO"
      }
    },
    {
      "cell_type": "markdown",
      "source": [
        "#### Chart - 9"
      ],
      "metadata": {
        "id": "YJ55k-q6phqO"
      }
    },
    {
      "cell_type": "markdown",
      "source": [
        "# **Top Food Preference**"
      ],
      "metadata": {
        "id": "4TQnSJfP1gPl"
      }
    },
    {
      "cell_type": "code",
      "source": [
        "# Chart - 9 visualization code\n",
        "meal_counts = hotel_booking['meal'].value_counts()\n",
        "\n",
        "# Create a bar plot\n",
        "plt.figure(figsize=(8, 6))\n",
        "sns.barplot(x=meal_counts.index, y=meal_counts.values)\n",
        "plt.title('Distribution of Meal Preferences')\n",
        "plt.xlabel('Meal Type')\n",
        "plt.ylabel('Number of Bookings')\n",
        "plt.show()"
      ],
      "metadata": {
        "id": "B2aS4O1ophqO"
      },
      "execution_count": null,
      "outputs": []
    },
    {
      "cell_type": "markdown",
      "source": [
        "##### 1. Why did you pick the specific chart?"
      ],
      "metadata": {
        "id": "gCFgpxoyphqP"
      }
    },
    {
      "cell_type": "markdown",
      "source": [
        "A bar plot was chosen for visualizing meal preference counts due to its suitability for categorical data, ease of comparison, clarity, readability, and conventional usage for such data."
      ],
      "metadata": {
        "id": "TVxDimi2phqP"
      }
    },
    {
      "cell_type": "markdown",
      "source": [
        "##### 2. What is/are the insight(s) found from the chart?"
      ],
      "metadata": {
        "id": "OVtJsKN_phqQ"
      }
    },
    {
      "cell_type": "markdown",
      "source": [
        "**From the bar plot displaying meal preference counts, several insights can be derived:**\n",
        "\n",
        "**Most Common Meal Preference:** The insight that \"BB\" (Bed & Breakfast) is the most common meal preference, as it has the highest count among all meal preferences. This suggests that guests often prefer accommodations that include breakfast.\n",
        "\n",
        "**Variety of Meal Preferences:** The existence of multiple meal preferences indicates that hotels cater to a variety of guest dietary preferences and needs. This diversity in meal options allows hotels to attract a broader range of guests.\n",
        "\n",
        "**Less Common Meal Preferences**: Meal preferences such as \"FB\" (Full Board) and \"Undefined\" have lower counts compared to others. This insight could indicate that these meal options are less popular among guests or are offered less frequently by hotels."
      ],
      "metadata": {
        "id": "ngGi97qjphqQ"
      }
    },
    {
      "cell_type": "markdown",
      "source": [
        "##### 3. Will the gained insights help creating a positive business impact?\n",
        "Are there any insights that lead to negative growth? Justify with specific reason."
      ],
      "metadata": {
        "id": "lssrdh5qphqQ"
      }
    },
    {
      "cell_type": "markdown",
      "source": [
        "Yes, the insights gained from analyzing meal preference counts can indeed help create a positive business impact in the hospitality industry. Here's how:\n",
        "\n",
        "Tailored Service Offerings: Understanding the most common meal preferences allows hotels to tailor their service offerings to better meet guest expectations. By prioritizing popular meal options, hotels can enhance guest satisfaction and loyalty, leading to positive reviews and repeat business.\n",
        "\n",
        "Marketing Strategies: Insights into meal preferences can inform marketing strategies, enabling hotels to promote their most popular meal options to attract potential guests. Highlighting these offerings in marketing materials can differentiate the hotel from competitors and attract guests seeking specific dining experiences.\n",
        "\n",
        "Menu Planning and Cost Optimization: Knowing which meal preferences are most popular can guide menu planning and cost optimization efforts. Hotels can allocate resources more efficiently by focusing on the preparation of popular meals and minimizing waste associated with less commonly requested options."
      ],
      "metadata": {
        "id": "tBpY5ekJphqQ"
      }
    },
    {
      "cell_type": "markdown",
      "source": [
        "#### Chart - 10"
      ],
      "metadata": {
        "id": "U2RJ9gkRphqQ"
      }
    },
    {
      "cell_type": "markdown",
      "source": [
        "# **Top Customer Types based on Number of Bookings**"
      ],
      "metadata": {
        "id": "yltaS6BX2Sx5"
      }
    },
    {
      "cell_type": "code",
      "source": [
        "# Chart - 10 visualization code\n",
        "# Calculate the count of each customer type\n",
        "customer_type_counts = hotel_booking['customer_type'].value_counts()\n",
        "\n",
        "# Create a bar plot\n",
        "plt.figure(figsize=(10, 6))\n",
        "sns.barplot(x=customer_type_counts.index, y=customer_type_counts.values)\n",
        "plt.title('Top Customer Types based on Number of Bookings')\n",
        "plt.xlabel('Customer Type')\n",
        "plt.ylabel('Number of Bookings')\n",
        "plt.xticks(rotation=45, ha='right')  # Rotate x-axis labels for better readability\n",
        "plt.show()"
      ],
      "metadata": {
        "id": "GM7a4YP4phqQ"
      },
      "execution_count": null,
      "outputs": []
    },
    {
      "cell_type": "markdown",
      "source": [
        "##### 1. Why did you pick the specific chart?"
      ],
      "metadata": {
        "id": "1M8mcRywphqQ"
      }
    },
    {
      "cell_type": "markdown",
      "source": [
        "The bar plot was chosen to clearly display the count of each customer type in the dataset, allowing for easy comparison and interpretation of the distribution."
      ],
      "metadata": {
        "id": "8agQvks0phqQ"
      }
    },
    {
      "cell_type": "markdown",
      "source": [
        "##### 2. What is/are the insight(s) found from the chart?"
      ],
      "metadata": {
        "id": "tgIPom80phqQ"
      }
    },
    {
      "cell_type": "markdown",
      "source": [
        "**The main insights derived are:**\n",
        "\n",
        "**Transient customers dominate:** The majority of customers fall into the \"Transient\" category, indicating a high proportion of short-term, non-contracted bookings.\n",
        "\n",
        "**Significant presence of Transient-Party:** The \"Transient-Party\" category also shows a notable count, suggesting a significant portion of bookings involving transient guests traveling in groups.\n",
        "\n",
        "**Fewer Contract and Group bookings:** Contract and Group bookings represent a smaller proportion of the overall customer base, indicating a lesser frequency of longer-term contracted stays or group bookings."
      ],
      "metadata": {
        "id": "Qp13pnNzphqQ"
      }
    },
    {
      "cell_type": "markdown",
      "source": [
        "##### 3. Will the gained insights help creating a positive business impact?\n",
        "Are there any insights that lead to negative growth? Justify with specific reason."
      ],
      "metadata": {
        "id": "JMzcOPDDphqR"
      }
    },
    {
      "cell_type": "markdown",
      "source": [
        "**Yes, the insights gained from understanding the distribution of customer types can positively impact the business by enabling tailored marketing strategies, optimized pricing policies, enhanced service offerings, improved operational efficiency, and ultimately, a better guest experience leading to increased revenue and long-term business success.**"
      ],
      "metadata": {
        "id": "R4Ka1PC2phqR"
      }
    },
    {
      "cell_type": "markdown",
      "source": [
        "#### Chart - 11"
      ],
      "metadata": {
        "id": "x-EpHcCOp1ci"
      }
    },
    {
      "cell_type": "markdown",
      "source": [
        "#### **Total Revenue for each Year by Hotel Types**"
      ],
      "metadata": {
        "id": "kKdRe0KXHg7i"
      }
    },
    {
      "cell_type": "code",
      "source": [
        "# Chart - 11 visualization code\n",
        "# Calculate total revenue for each year by hotel type\n",
        "revenue_by_year_hotel = hotel_booking.groupby(['arrival_date_year', 'hotel'])['total_cost'].sum().unstack()\n",
        "\n",
        "# Plot the data\n",
        "revenue_by_year_hotel.plot(kind='bar', figsize=(10, 6))\n",
        "plt.title('Total Revenue for Each Year by Hotel Type')\n",
        "plt.xlabel('Year')\n",
        "plt.ylabel('Total Revenue')\n",
        "plt.xticks(rotation=0)\n",
        "plt.legend(title='Hotel Type')\n",
        "plt.show()\n"
      ],
      "metadata": {
        "id": "mAQTIvtqp1cj"
      },
      "execution_count": null,
      "outputs": []
    },
    {
      "cell_type": "markdown",
      "source": [
        "##### 1. Why did you pick the specific chart?"
      ],
      "metadata": {
        "id": "X_VqEhTip1ck"
      }
    },
    {
      "cell_type": "markdown",
      "source": [
        "The bar plot was chosen to clearly display the Total Revenue for Each Year by Hotel Type in the dataset, allowing for easy comparison and interpretation of the distribution."
      ],
      "metadata": {
        "id": "-vsMzt_np1ck"
      }
    },
    {
      "cell_type": "markdown",
      "source": [
        "##### 2. What is/are the insight(s) found from the chart?"
      ],
      "metadata": {
        "id": "8zGJKyg5p1ck"
      }
    },
    {
      "cell_type": "markdown",
      "source": [
        "Comparison of Revenue Between City Hotel and Resort Hotel: City Hotel generated lower revenue compared to Resort Hotel in 2015. In 2016 and 2017, City Hotel's revenue surpassed that of Resort Hotel.\n",
        "\n",
        "Trend Analysis Over Time: Both City Hotel and Resort Hotel experienced an increase in revenue from 2015 to 2016. However, while City Hotel's revenue continued to increase from 2016 to 2017, Resort Hotel's revenue remained relatively stable or slightly decreased.\n",
        "\n",
        "Yearly Performance: 2016 appears to be a significant year for both hotels, with substantial increases in revenue compared to 2015. City Hotel experienced the highest revenue in 2016, followed by Resort Hotel. Despite the decline in revenue from 2016 to 2017 for Resort Hotel, it still maintained a revenue level close to that of 2016."
      ],
      "metadata": {
        "id": "ZYdMsrqVp1ck"
      }
    },
    {
      "cell_type": "markdown",
      "source": [
        "##### 3. Will the gained insights help creating a positive business impact?\n",
        "Are there any insights that lead to negative growth? Justify with specific reason."
      ],
      "metadata": {
        "id": "PVzmfK_Ep1ck"
      }
    },
    {
      "cell_type": "markdown",
      "source": [
        "**Yes, the gained insights can indeed help create a positive business impact for both City Hotel and Resort Hotel. Here's how:**\n",
        "\n",
        "**Strategic Decision-Making:** Understanding the revenue trends and performance of each hotel over time enables informed strategic decision-making. For example, if City Hotel consistently outperforms Resort Hotel, the latter may need to reassess its pricing strategies, marketing efforts, or service offerings to remain competitive.\n",
        "\n",
        "**Revenue Optimization:** By analyzing the factors contributing to revenue fluctuations, such as room rates, occupancy rates, or customer preferences, hotels can optimize their revenue management strategies. This might involve adjusting pricing dynamically based on demand patterns or implementing targeted marketing campaigns to attract specific customer segments.\n",
        "\n",
        "**Operational Efficiency:** Insights into revenue performance can also guide operational improvements. For instance, if City Hotel experiences a significant revenue increase in 2016, the hotel management can investigate which operational changes or initiatives implemented during that period contributed to the success and consider replicating or expanding those practices.\n",
        "\n",
        "**Negative Growth**\n",
        "\n",
        "**Yes, there are insights within the data that could potentially lead to negative growth for either City Hotel or Resort Hotel. One such insight is the decline in revenue for Resort Hotel from 2016 to 2017, despite experiencing growth from 2015 to 2016.**\n",
        "\n",
        "The decline in revenue for Resort Hotel from 2016 to 2017 suggests potential challenges or weaknesses in the market environment, competitive landscape, consumer preferences, or external factors that could lead to negative growth if not addressed effectively. Identifying and understanding these insights is crucial for hotels to implement strategies to mitigate risks and drive sustainable growth."
      ],
      "metadata": {
        "id": "druuKYZpp1ck"
      }
    },
    {
      "cell_type": "markdown",
      "source": [
        "#### Chart - 12"
      ],
      "metadata": {
        "id": "n3dbpmDWp1ck"
      }
    },
    {
      "cell_type": "markdown",
      "source": [
        "# **Average ADR for each Room type based on hotel type**"
      ],
      "metadata": {
        "id": "wr5tCWhv8VVt"
      }
    },
    {
      "cell_type": "code",
      "source": [
        "# Calculate the average ADR by room type for Resort Hotel and City Hotel\n",
        "avg_adr_hotel = hotel_booking.groupby(['hotel','reserved_room_type'])['adr'].mean().reset_index()\n",
        "\n",
        "avg_adr_hotel"
      ],
      "metadata": {
        "id": "OzRSHV1x9glU"
      },
      "execution_count": null,
      "outputs": []
    },
    {
      "cell_type": "code",
      "source": [
        "# Chart - 12 visualization code\n",
        "# Plot the data\n",
        "plt.figure(figsize=(8, 6))\n",
        "sns.barplot(x='reserved_room_type',  y='adr', data = avg_adr_hotel , hue = 'hotel')\n",
        "plt.xlabel('Room Type')\n",
        "plt.ylabel('Average Daily Rate (ADR)')\n",
        "plt.title('Comparison of ADR by Room Type between City Hotel and Resort Hotel')\n",
        "plt.tight_layout()\n",
        "plt.grid(axis='y', linestyle='--', alpha=0.5)\n",
        "plt.show()"
      ],
      "metadata": {
        "id": "bwevp1tKp1ck"
      },
      "execution_count": null,
      "outputs": []
    },
    {
      "cell_type": "markdown",
      "source": [
        "##### 1. Why did you pick the specific chart?"
      ],
      "metadata": {
        "id": "ylSl6qgtp1ck"
      }
    },
    {
      "cell_type": "markdown",
      "source": [
        "I choose to use a bar plot because it effectively displays the relationship between the reserved room type, the average daily rate (ADR), and the hotel type"
      ],
      "metadata": {
        "id": "m2xqNkiQp1ck"
      }
    },
    {
      "cell_type": "markdown",
      "source": [
        "##### 2. What is/are the insight(s) found from the chart?"
      ],
      "metadata": {
        "id": "ZWILFDl5p1ck"
      }
    },
    {
      "cell_type": "markdown",
      "source": [
        "Here are the following insights from the chart.\n",
        "\n",
        "Price Variability Across Room Types: There is a noticeable variation in ADR across different reserved room types within each hotel type. For example, in the City Hotel, room types G and F have significantly higher ADR compared to other room types, whereas in the Resort Hotel, room types H, C, and G tend to have higher ADR.\n",
        "\n",
        "Differences Between Hotel Types: Comparing the same room types between City Hotel and Resort Hotel reveals differences in ADR. For instance, room type A has a higher ADR in the City Hotel compared to the Resort Hotel, while room types B and D have higher ADR in the Resort Hotel.\n",
        "\n",
        "Zero ADR Values: The ADR is reported as zero in room type P. This could indicate cases where the room type is not applicable or where bookings were made but not utilized."
      ],
      "metadata": {
        "id": "x-lUsV2mp1ck"
      }
    },
    {
      "cell_type": "markdown",
      "source": [
        "##### 3. Will the gained insights help creating a positive business impact?\n",
        "Are there any insights that lead to negative growth? Justify with specific reason."
      ],
      "metadata": {
        "id": "M7G43BXep1ck"
      }
    },
    {
      "cell_type": "markdown",
      "source": [
        "Analyzing the average daily rate (ADR) by reserved room type and hotel type provides valuable insights that can lead to positive business impacts in the hospitality industry. By understanding pricing dynamics and guest preferences, hotels can implement strategies to optimize revenue, enhance guest satisfaction, and improve operational efficiency."
      ],
      "metadata": {
        "id": "5wwDJXsLp1cl"
      }
    },
    {
      "cell_type": "markdown",
      "source": [
        "#### Chart - 13"
      ],
      "metadata": {
        "id": "Ag9LCva-p1cl"
      }
    },
    {
      "cell_type": "markdown",
      "source": [
        "# **Statistics of ADR(Average Daily Rate) based on Hotel Types**"
      ],
      "metadata": {
        "id": "LCqpSrUO-IcO"
      }
    },
    {
      "cell_type": "code",
      "source": [
        "# Calculate statistics of ADR for each hotel type\n",
        "adr_stats = hotel_booking.groupby('hotel')['adr'].describe()\n",
        "\n",
        "# Display the statistics\n",
        "adr_stats"
      ],
      "metadata": {
        "id": "QNkt-dVa-RMw"
      },
      "execution_count": null,
      "outputs": []
    },
    {
      "cell_type": "code",
      "source": [
        "# Chart - 13 visualization code\n",
        "# Create box plots for ADR distribution by hotel type\n",
        "plt.figure(figsize=(8, 6))\n",
        "sns.boxplot(x='hotel', y='adr', data=hotel_booking)\n",
        "plt.title('Distribution of ADR by Hotel Type')\n",
        "plt.xlabel('Hotel Type')\n",
        "plt.ylabel('Average Daily Rate (ADR)')\n",
        "plt.show()"
      ],
      "metadata": {
        "id": "EUfxeq9-p1cl"
      },
      "execution_count": null,
      "outputs": []
    },
    {
      "cell_type": "markdown",
      "source": [
        "##### 1. Why did you pick the specific chart?"
      ],
      "metadata": {
        "id": "E6MkPsBcp1cl"
      }
    },
    {
      "cell_type": "markdown",
      "source": [
        "A boxplot is a great choice for showing the distribution of a continuous variable (ADR) within different categories (hotel types). It provides several key pieces of information.\n",
        "\n",
        "The median (middle line inside the box) shows the central tendency of the ADR for each hotel type. The box represents the interquartile range (IQR), indicating the spread of the data. The whiskers extend to the most extreme data points within 1.5 times the IQR from the first and third quartiles. Any points outside the whiskers are considered outliers."
      ],
      "metadata": {
        "id": "V22bRsFWp1cl"
      }
    },
    {
      "cell_type": "markdown",
      "source": [
        "##### 2. What is/are the insight(s) found from the chart?"
      ],
      "metadata": {
        "id": "2cELzS2fp1cl"
      }
    },
    {
      "cell_type": "markdown",
      "source": [
        "Median ADR: A median ADR of about 110 for city hotels and about 80 for resort hotels suggests that a guest is likely to pay a higher average price for accommodation at a city hotel compared to a resort hotel.\n",
        "\n",
        "Spread (Interquartile Range - IQR): The interquartile range (IQR) for ADR in city hotels (50th to 75th percentile) spans from 85.00 to 135.00, while for resort hotels, it spans from 53.39 to 135.00. This indicates that the range of prices experienced by guests at city hotels is narrower compared to resort hotels.\n",
        "\n",
        "Outliers: The presence of outliers in both types of hotels, as observed in the boxplot, indicates that there are some instances where the Average Daily Rate (ADR) deviates significantly from the typical pricing levels. Outliers can represent various scenarios, such as exceptionally high-priced accommodations during peak seasons, special events, or unique room types, as well as unusually low-priced accommodations due to discounts, promotions, or booking errors."
      ],
      "metadata": {
        "id": "ozQPc2_Ip1cl"
      }
    },
    {
      "cell_type": "markdown",
      "source": [
        "##### 3. Will the gained insights help creating a positive business impact?\n",
        "Are there any insights that lead to negative growth? Justify with specific reason."
      ],
      "metadata": {
        "id": "3MPXvC8up1cl"
      }
    },
    {
      "cell_type": "markdown",
      "source": [
        "Yes, the insights gained from analyzing the distribution of Average Daily Rate (ADR) for different hotel types can indeed help create a positive business impact. Here's how:\n",
        "\n",
        "Optimized Pricing Strategies: Understanding the typical pricing levels (such as median ADR) and the variability in pricing (including outliers) allows hotel managers to develop more effective pricing strategies. They can adjust rates based on demand, seasonality, and market trends to maximize revenue while remaining competitive.\n",
        "\n",
        "Enhanced Revenue Management: Analyzing ADR distribution helps in identifying opportunities to optimize revenue. Hotel managers can strategically adjust rates for high-demand periods, target specific customer segments with tailored pricing packages, and implement dynamic pricing strategies to capitalize on market fluctuations.\n",
        "\n",
        "Improved Customer Experience: By offering competitive pricing and value-added services based on insights gained from ADR analysis, hotels can enhance the overall customer experience. Meeting or exceeding customer expectations regarding pricing can lead to higher guest satisfaction, positive reviews, and repeat bookings."
      ],
      "metadata": {
        "id": "GL8l1tdLp1cl"
      }
    },
    {
      "cell_type": "markdown",
      "source": [
        "#### Chart - 14 - Correlation Heatmap"
      ],
      "metadata": {
        "id": "NC_X3p0fY2L0"
      }
    },
    {
      "cell_type": "code",
      "source": [
        "# Correlation Heatmap visualization code\n",
        "# Calculate correlation matrix\n",
        "correlation_matrix = hotel_booking.corr(numeric_only=True)\n",
        "\n",
        "# Plot correlation heatmap\n",
        "plt.figure(figsize=(14, 10))\n",
        "sns.heatmap(correlation_matrix, annot=True, cmap='coolwarm', fmt=\".1f\", linewidths=0.8)\n",
        "plt.title('Correlation Heatmap')\n",
        "plt.show()"
      ],
      "metadata": {
        "id": "xyC9zolEZNRQ"
      },
      "execution_count": null,
      "outputs": []
    },
    {
      "cell_type": "markdown",
      "source": [
        "##### 1. Why did you pick the specific chart?"
      ],
      "metadata": {
        "id": "UV0SzAkaZNRQ"
      }
    },
    {
      "cell_type": "markdown",
      "source": [
        "I choose to use a correlation heatmap as the visualization because it effectively represents the pairwise correlations between variables in a dataset."
      ],
      "metadata": {
        "id": "DVPuT8LYZNRQ"
      }
    },
    {
      "cell_type": "markdown",
      "source": [
        "##### 2. What is/are the insight(s) found from the chart?"
      ],
      "metadata": {
        "id": "YPEH6qLeZNRQ"
      }
    },
    {
      "cell_type": "markdown",
      "source": [
        "**The heatmap analysis reveals that most variables in the hotel booking dataset have weak correlations with each other, except for stay duration (stays_in_weekend_nights and stays_in_week_nights) with total cost. Longer stays tend to result in higher total costs.**"
      ],
      "metadata": {
        "id": "bfSqtnDqZNRR"
      }
    },
    {
      "cell_type": "markdown",
      "source": [
        "#### Chart - 15 - Pair Plot"
      ],
      "metadata": {
        "id": "q29F0dvdveiT"
      }
    },
    {
      "cell_type": "code",
      "source": [
        "#Pair Plot visualization code\n",
        "\n",
        "# Select relevant numerical columns for pair plot\n",
        "numerical_columns = ['lead_time', 'stays_in_weekend_nights', 'stays_in_week_nights', 'adults', 'children', 'babies', 'adr', 'total_cost']\n",
        "\n",
        "# Create pair plot\n",
        "sns.pairplot(hotel_booking[numerical_columns])\n",
        "plt.suptitle('Pair Plot of Numerical Variables', y=1.02)\n",
        "plt.show()\n"
      ],
      "metadata": {
        "id": "sN8zrpL-ANfV"
      },
      "execution_count": null,
      "outputs": []
    },
    {
      "cell_type": "markdown",
      "source": [
        "##### 1. Why did you pick the specific chart?"
      ],
      "metadata": {
        "id": "EXh0U9oCveiU"
      }
    },
    {
      "cell_type": "markdown",
      "source": [
        "The pair plot was selected as it effectively addresses the objectives of the project by facilitating the exploration of relationships, patterns, and distributions within the hotel bookings dataset. Additionally, its versatility and ability to handle multiple numerical variables make it a suitable choice for this type of analysis."
      ],
      "metadata": {
        "id": "eMmPjTByveiU"
      }
    },
    {
      "cell_type": "markdown",
      "source": [
        "##### 2. What is/are the insight(s) found from the chart?"
      ],
      "metadata": {
        "id": "22aHeOlLveiV"
      }
    },
    {
      "cell_type": "markdown",
      "source": [
        "Interpreting insights from a pair plot involves examining the relationships between different numerical variables and identifying any patterns or trends that may emerge. The Insights are same from Correlation Heatmap"
      ],
      "metadata": {
        "id": "uPQ8RGwHveiV"
      }
    },
    {
      "cell_type": "markdown",
      "source": [
        "## **5. Solution to Business Objective**"
      ],
      "metadata": {
        "id": "JcMwzZxoAimU"
      }
    },
    {
      "cell_type": "markdown",
      "source": [
        "#### What do you suggest the client to achieve Business Objective ?\n",
        "Explain Briefly."
      ],
      "metadata": {
        "id": "8G2x9gOozGDZ"
      }
    },
    {
      "cell_type": "markdown",
      "source": [
        "**Through comprehensive exploratory data analysis (EDA) of hotel bookings data, we have gained valuable insights into the preferences, behaviors, and trends of customers, as well as the revenue sources and cancellation patterns within the hospitality industry. Here are the key takeaways from our analysis:**\n",
        "\n",
        "1. **Hotel Preferences and Demographics:**\n",
        " * City hotels are favored over resort hotels, with Portugal, the United Kingdom, France, Spain, and Germany being significant contributors to the customer base.\n",
        " * Spain has the highest average daily rate (ADR), while Portugal has the lowest, reflecting differences in pricing strategies and market demand across countries.\n",
        "\n",
        "2. **Booking Patterns and Seasonal Trends:**\n",
        " * Peak travel seasons occur during the summer months, with higher booking counts in June, July, and August.\n",
        " * Friday and Monday are peak arrival days, while weekends generally see fewer bookings compared to weekdays.\n",
        "\n",
        "3. **Room Types and Stay Duration:**\n",
        " * Guests tend to stay longer at resort hotels compared to city hotels, indicating differences in accommodation preferences.\n",
        " * A notable variation in ADR exists across different room types within each hotel type, suggesting pricing variability based on room features.\n",
        "\n",
        "4. **Customer Segments and Meal Preferences:**\n",
        " * Transient customers dominate, with a preference for short-term, non-contracted bookings.\n",
        " * Bed & Breakfast (BB) is the most common meal preference, catering to guests' preference for accommodations with breakfast.\n",
        "\n",
        "5. **Revenue Generation and Cancellation Trends:**\n",
        " * Online travel agents contribute the most to revenue, followed by offline agents, direct bookings, and corporate clients.\n",
        " * Non-refundable bookings exhibit higher cancellation rates compared to refundable ones, indicating the importance of offering flexible deposit options to customers.\n",
        "\n",
        "6. **Market Segments and Repeat Guests:**\n",
        " * Corporate market segments and direct bookings have a notable number of repeated guests, highlighting the importance of customer retention strategies.\n",
        "\n"
      ],
      "metadata": {
        "id": "pASKb0qOza21"
      }
    },
    {
      "cell_type": "markdown",
      "source": [
        "# **Conclusion**"
      ],
      "metadata": {
        "id": "gCX9965dhzqZ"
      }
    },
    {
      "cell_type": "markdown",
      "source": [
        "In conclusion, our EDA project provides actionable insights for hotel management and marketing teams to optimize revenue generation, enhance customer experiences, and mitigate cancellation risks. By understanding customer preferences, booking behaviors, and market trends, hotels can tailor their strategies to attract and retain guests effectively, ultimately leading to improved business performance and guest satisfaction."
      ],
      "metadata": {
        "id": "Fjb1IsQkh3yE"
      }
    },
    {
      "cell_type": "markdown",
      "source": [
        "### ***Hurrah! You have successfully completed your EDA Capstone Project !!!***"
      ],
      "metadata": {
        "id": "gIfDvo9L0UH2"
      }
    }
  ]
}